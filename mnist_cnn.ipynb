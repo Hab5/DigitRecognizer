{
 "cells": [
  {
   "cell_type": "code",
   "execution_count": 1,
   "metadata": {},
   "outputs": [
    {
     "name": "stderr",
     "output_type": "stream",
     "text": [
      "Using TensorFlow backend.\n"
     ]
    }
   ],
   "source": [
    "import tensorflow as tf\n",
    "from tensorflow import keras\n",
    "from keras.utils import to_categorical\n",
    "import numpy as np\n",
    "import pandas as pd\n",
    "import itertools\n",
    "import matplotlib.pyplot as plt\n",
    "import os\n",
    "import time"
   ]
  },
  {
   "cell_type": "code",
   "execution_count": 2,
   "metadata": {},
   "outputs": [],
   "source": [
    "(X_train, y_train), (X_test, y_test) = keras.datasets.mnist.load_data()"
   ]
  },
  {
   "cell_type": "code",
   "execution_count": 3,
   "metadata": {},
   "outputs": [],
   "source": [
    "X_train = X_train.reshape(X_train.shape[0], 28, 28, 1).astype('float32') / 255\n",
    "X_test = X_test.reshape(X_test.shape[0], 28, 28, 1).astype('float32') / 255\n",
    "\n",
    "y_train = to_categorical(y_train, num_classes=10)\n",
    "y_test = to_categorical(y_test, num_classes=10)"
   ]
  },
  {
   "cell_type": "code",
   "execution_count": 5,
   "metadata": {},
   "outputs": [
    {
     "data": {
      "image/png": "[encoded data removed]",
      "text/plain": [
       "<Figure size 1080x1080 with 40 Axes>"
      ]
     },
     "metadata": {},
     "output_type": "display_data"
    }
   ],
   "source": [
    "plt.figure(figsize=(15,15))\n",
    "for i in range(0,40):\n",
    "    plt.subplot(9,10,i+1)\n",
    "    grid_data = X_test[i].reshape(28,28)\n",
    "    plt.imshow(grid_data, cmap = \"hot\")\n",
    "    plt.xticks([])\n",
    "    plt.yticks([])\n",
    "plt.show()"
   ]
  },
  {
   "cell_type": "code",
   "execution_count": 5,
   "metadata": {},
   "outputs": [],
   "source": [
    "model = keras.models.Sequential([\n",
    "    keras.layers.Conv2D(32, kernel_size=(5, 5), padding='Same', activation='relu', input_shape=(28,28,1)),\n",
    "    keras.layers.Conv2D(32, kernel_size=(5, 5), padding='Same', activation='relu'),\n",
    "    keras.layers.MaxPool2D(pool_size=(2, 2)),\n",
    "    keras.layers.Dropout(0.25),\n",
    "    keras.layers.Conv2D(64, kernel_size=(3, 3), padding='Same', activation='relu'),\n",
    "    keras.layers.Conv2D(64, kernel_size=(3, 3), padding='Same', activation='relu'),\n",
    "    keras.layers.MaxPool2D(pool_size=(2, 2), strides=(2,2)),\n",
    "    keras.layers.Dropout(0.25),\n",
    "    keras.layers.Flatten(),\n",
    "    keras.layers.Dense(256, activation='relu'),\n",
    "    keras.layers.Dropout(0.5),\n",
    "    keras.layers.Dense(10, activation='softmax')\n",
    "])"
   ]
  },
  {
   "cell_type": "code",
   "execution_count": 6,
   "metadata": {},
   "outputs": [],
   "source": [
    "optimizer = keras.optimizers.RMSprop(lr=0.001, rho=0.9, epsilon=1e-08, decay=0.0)\n",
    "model.compile(optimizer=optimizer,\n",
    "              loss='categorical_crossentropy',\n",
    "              metrics=['accuracy'])"
   ]
  },
  {
   "cell_type": "code",
   "execution_count": 16,
   "metadata": {},
   "outputs": [
    {
     "name": "stdout",
     "output_type": "stream",
     "text": [
      "Train on 60000 samples, validate on 10000 samples\n",
      "Epoch 1/10\n",
      "59904/60000 [============================>.] - ETA: 0s - loss: 0.0281 - accuracy: 0.9915 - val_loss: 0.0000e+00 - val_accuracy: 0.0000e+00Epoch 2/10\n",
      "59872/60000 [============================>.] - ETA: 0s - loss: 0.0258 - accuracy: 0.9924 - val_loss: 0.0000e+00 - val_accuracy: 0.0000e+00Epoch 3/10\n",
      "59872/60000 [============================>.] - ETA: 0s - loss: 0.0267 - accuracy: 0.9924 - val_loss: 0.0000e+00 - val_accuracy: 0.0000e+00Epoch 4/10\n",
      "59872/60000 [============================>.] - ETA: 0s - loss: 0.0254 - accuracy: 0.9928\n",
      "Epoch 00004: ReduceLROnPlateau reducing learning rate to 0.0005000000237487257.\n",
      "59872/60000 [============================>.] - ETA: 0s - loss: 0.0254 - accuracy: 0.9928 - val_loss: 0.0000e+00 - val_accuracy: 0.0000e+00Epoch 5/10\n",
      "59872/60000 [============================>.] - ETA: 0s - loss: 0.0187 - accuracy: 0.9944 - val_loss: 0.0000e+00 - val_accuracy: 0.0000e+00Epoch 6/10\n",
      "59872/60000 [============================>.] - ETA: 0s - loss: 0.0171 - accuracy: 0.9950 - val_loss: 0.0000e+00 - val_accuracy: 0.0000e+00Epoch 7/10\n",
      "59872/60000 [============================>.] - ETA: 0s - loss: 0.0163 - accuracy: 0.9955 - val_loss: 0.0000e+00 - val_accuracy: 0.0000e+00Epoch 8/10\n",
      "59872/60000 [============================>.] - ETA: 0s - loss: 0.0155 - accuracy: 0.9958\n",
      "Epoch 00008: ReduceLROnPlateau reducing learning rate to 0.0002500000118743628.\n",
      "59872/60000 [============================>.] - ETA: 0s - loss: 0.0155 - accuracy: 0.9958 - val_loss: 0.0000e+00 - val_accuracy: 0.0000e+00Epoch 9/10\n",
      "59872/60000 [============================>.] - ETA: 0s - loss: 0.0120 - accuracy: 0.9969 - val_loss: 0.0000e+00 - val_accuracy: 0.0000e+00Epoch 10/10\n",
      "59872/60000 [============================>.] - ETA: 0s - loss: 0.0115 - accuracy: 0.9966 - val_loss: 0.0000e+00 - val_accuracy: 0.0000e+00"
     ]
    }
   ],
   "source": [
    "learning_rate_reduction = keras.callbacks.ReduceLROnPlateau(monitor='val_accuracy', \n",
    "                                                            patience=3, \n",
    "                                                            verbose=1, \n",
    "                                                            factor=0.5, \n",
    "                                                            min_lr=0.00001)\n",
    "history = model.fit(X_train, y_train, batch_size=128,\n",
    "                    epochs=10, validation_data=(X_test,y_test),\n",
    "                    steps_per_epoch=X_train.shape[0] // 128,\n",
    "                    callbacks=[learning_rate_reduction])"
   ]
  },
  {
   "cell_type": "code",
   "execution_count": 18,
   "metadata": {},
   "outputs": [],
   "source": [
    "model.save('model.h5')"
   ]
  },
  {
   "cell_type": "code",
   "execution_count": 17,
   "metadata": {},
   "outputs": [
    {
     "name": "stdout",
     "output_type": "stream",
     "text": [
      "0.9952\n"
     ]
    }
   ],
   "source": [
    "from sklearn.metrics import accuracy_score\n",
    "\n",
    "predictions = model.predict_classes(X_test)\n",
    "y_new = np.argmax(y_test, 1)\n",
    "print(accuracy_score(predictions, y_new))\n"
   ]
  },
  {
   "cell_type": "code",
   "execution_count": null,
   "metadata": {},
   "outputs": [],
   "source": []
  }
 ],
 "metadata": {
  "kernelspec": {
   "display_name": "Python 3",
   "language": "python",
   "name": "python3"
  },
  "language_info": {
   "codemirror_mode": {
    "name": "ipython",
    "version": 3
   },
   "file_extension": ".py",
   "mimetype": "text/x-python",
   "name": "python",
   "nbconvert_exporter": "python",
   "pygments_lexer": "ipython3",
   "version": "3.7.3"
  }
 },
 "nbformat": 4,
 "nbformat_minor": 2
}
